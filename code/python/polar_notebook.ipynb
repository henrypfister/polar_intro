{
 "cells": [
  {
   "cell_type": "code",
   "execution_count": 1,
   "metadata": {},
   "outputs": [],
   "source": [
    "import copy\n",
    "import numpy as np\n",
    "import numba\n",
    "from numba import int64, float64, jit, njit, vectorize\n",
    "import matplotlib.pyplot as plt\n",
    "%matplotlib inline"
   ]
  },
  {
   "cell_type": "code",
   "execution_count": 2,
   "metadata": {},
   "outputs": [],
   "source": [
    "@njit\n",
    "def bec_p1(x: int64[:], e: float64) -> (float64[:]):\n",
    "    '''\n",
    "    Transmit binary x through BEC(e) with P1 domain output\n",
    "\n",
    "          Arguments:\n",
    "                  x (int[:]): array of 0/1 channel inputs\n",
    "                  e (float): channel erasure probability\n",
    "\n",
    "          Returns:\n",
    "                  y (float[:]): Numpy array of P1 values for received values\n",
    "    '''\n",
    "    y = np.random.random_sample(len(x))\n",
    "    for i in range(len(x)):\n",
    "        if (y[i]<e):\n",
    "            y[i] = 0.5\n",
    "        else:\n",
    "            y[i] = x[i]\n",
    "\n",
    "    return y\n",
    "     \n",
    "@njit\n",
    "def bsc_p1(x: int64[:], p: float64) -> (float64[:]):\n",
    "    '''\n",
    "    Transmit binary x through BSC(p) with P1 domain output\n",
    "\n",
    "          Arguments:\n",
    "                  x (int[:]): array of 0/1 channel inputs\n",
    "                  p (float): channel erasure probability\n",
    "\n",
    "          Returns:\n",
    "                  y (float[:]): Numpy array of P1 values for received values\n",
    "    '''\n",
    "    z = np.random.random_sample(len(x))\n",
    "    y = np.zeros(len(x))+p\n",
    "    for i in range(len(x)):\n",
    "        if ((z[i]<p) != (x[i]==1)):\n",
    "            y[i] = 1-p\n",
    "\n",
    "    return y\n",
    "\n",
    "@njit\n",
    "def awgn_p1(x: int64[:], esno_db: float64) -> (float64[:]):\n",
    "    '''\n",
    "    Transmit binary x through BIAWGN(esno_db) with P1 domain output\n",
    "\n",
    "          Arguments:\n",
    "                  x (int[:]): array of 0/1 channel inputs\n",
    "                  esno_db (float): channel signal energy divided by noise spctral density in dB\n",
    "\n",
    "          Returns:\n",
    "                  y (float[:]): Numpy array of P1 values for received values\n",
    "    '''\n",
    "    m = np.sqrt(10**(esno_db/10) * 2)\n",
    "    z = np.random.normal(loc=m,scale=1,size=x.shape)\n",
    "    y = 1/(1+np.exp(2*m*z))\n",
    "    for i in range(len(x)):        \n",
    "        if (x[i]==1):\n",
    "            y[i] = 1-y[i]\n",
    "            \n",
    "    return y"
   ]
  },
  {
   "cell_type": "code",
   "execution_count": 3,
   "metadata": {},
   "outputs": [
    {
     "name": "stdout",
     "output_type": "stream",
     "text": [
      "[0.  0.5 0.5 1.  0.  0.5 0.  1. ]\n",
      "[0.55 0.55 0.45 0.55 0.45 0.45 0.45 0.45]\n",
      "[2.66719294e-03 9.99999415e-01 5.97496646e-06 9.99993652e-01\n",
      " 6.01896833e-04 9.98331366e-01 1.06302401e-04 9.99981749e-01]\n"
     ]
    }
   ],
   "source": [
    "# Simple tests of above functions\n",
    "print(bec_p1(np.asarray([0,1,0,1,0,1,0,1],dtype=np.int),0.5))\n",
    "print(bsc_p1(np.asarray([0,1,0,1,0,1,0,1],dtype=np.int),0.45))\n",
    "print(awgn_p1(np.asarray([0,1,0,1,0,1,0,1],dtype=np.int),3))"
   ]
  },
  {
   "cell_type": "code",
   "execution_count": 4,
   "metadata": {},
   "outputs": [],
   "source": [
    "@njit\n",
    "def polar_bec(n,e):\n",
    "    '''\n",
    "    Compute effective-channel erasure rates for polar code of length N=2^n on BEC(e)\n",
    "\n",
    "          Arguments:\n",
    "                  n (int): number of polarization stages\n",
    "                  e (float): channel erasure probability\n",
    "\n",
    "          Returns:\n",
    "                  E1 (float[:]): Numpy array of floats with erasure rates of effective channels\n",
    "    '''\n",
    "    E1 = np.zeros(2**n)\n",
    "    E2 = np.zeros(2**n)\n",
    "    E1[0] = e\n",
    "    m = 1\n",
    "    for i in range(n):\n",
    "        # Interleave updates to keep in polar decoding order\n",
    "        E2[:2*m:2] = 1-(1-E1[:m])*(1-E1[:m])\n",
    "        E2[1:2*m:2] = E1[:m]*E1[:m]\n",
    "        E1, E2 = E2, E1\n",
    "        m = m * 2\n",
    "    \n",
    "    return E1"
   ]
  },
  {
   "cell_type": "code",
   "execution_count": 5,
   "metadata": {},
   "outputs": [
    {
     "name": "stdout",
     "output_type": "stream",
     "text": [
      "[0.99609375 0.87890625 0.80859375 0.31640625 0.68359375 0.19140625\n",
      " 0.12109375 0.00390625]\n"
     ]
    }
   ],
   "source": [
    "# Compute erasure rate for polar sub channels\n",
    "print(polar_bec(3,0.5))"
   ]
  },
  {
   "cell_type": "code",
   "execution_count": 6,
   "metadata": {},
   "outputs": [],
   "source": [
    "@njit('(int64[:])(int64[:])') # Input/output specifications to make Numba work\n",
    "def polar_transform(u):\n",
    "    '''\n",
    "    Encode polar information vector u\n",
    "\n",
    "          Arguments:\n",
    "                  u (int64[:]): Numpy array of input bits\n",
    "\n",
    "          Returns:\n",
    "                  x (int64[:]): Numpy array of encoded bits\n",
    "    '''\n",
    "    # Recurse down to length 1\n",
    "    if (len(u)==1):\n",
    "        return u;\n",
    "    else:\n",
    "        # R_N maps odd/even indices (i.e., u1u2/u2) to first/second half\n",
    "        # Compute odd/even outputs of (I_{N/2} \\otimes G_2) transform\n",
    "        x = np.zeros(len(u), dtype=np.int64)\n",
    "        x[:len(u)//2] = polar_transform((u[::2]+u[1::2])%2)\n",
    "        x[len(u)//2:] = polar_transform(u[1::2])\n",
    "        return x"
   ]
  },
  {
   "cell_type": "code",
   "execution_count": 7,
   "metadata": {},
   "outputs": [
    {
     "name": "stdout",
     "output_type": "stream",
     "text": [
      "[1 1 1 0 0 1 1 1]\n"
     ]
    }
   ],
   "source": [
    "# Test polar transform\n",
    "print(polar_transform(np.array([0,1,1,0,1,0,1,1],dtype=np.int64)))"
   ]
  },
  {
   "cell_type": "code",
   "execution_count": 8,
   "metadata": {},
   "outputs": [],
   "source": [
    "@njit\n",
    "def polar_design(biterrd,d):\n",
    "    '''\n",
    "    Design polar code from additive channel noise scores\n",
    "\n",
    "          Arguments:\n",
    "                  biterrd (float[:]): Numpy array of channel noise scores (e.g., error rates)\n",
    "                  d (float): Sum constraint of total noise for unfrozen channels\n",
    "\n",
    "          Returns:\n",
    "                  f (float[:]): Numpy array indicating frozen bits by 0 and info bits by 0.5\n",
    "    '''\n",
    "    # Sort into increasing order and compute cumulative sum\n",
    "    order = np.argsort(biterrd)\n",
    "    SE = biterrd[order]\n",
    "    CSE = np.cumsum(SE)\n",
    "\n",
    "    # Find best frozen bits\n",
    "    k = np.sum(CSE<d)\n",
    "    f = np.zeros(len(biterrd))\n",
    "    f[order[:k]] = 0.5\n",
    "    return f"
   ]
  },
  {
   "cell_type": "code",
   "execution_count": 9,
   "metadata": {},
   "outputs": [
    {
     "data": {
      "text/plain": [
       "array([0. , 0. , 0. , 0. , 0. , 0. , 0. , 0. , 0. , 0. , 0. , 0.5, 0. ,\n",
       "       0.5, 0.5, 0.5])"
      ]
     },
     "execution_count": 9,
     "metadata": {},
     "output_type": "execute_result"
    }
   ],
   "source": [
    "# Test design for polar sub channels for BEC\n",
    "polar_design(polar_bec(4,0.5),0.1)"
   ]
  },
  {
   "cell_type": "code",
   "execution_count": 10,
   "metadata": {},
   "outputs": [],
   "source": [
    "# Check-node operation in P1 domain\n",
    "#   For two independent bits with P1 equal to w1,w2, return probability of even parity\n",
    "@vectorize([float64(float64,float64)],nopython=True)\n",
    "def cnop(w1,w2):\n",
    "    return w1*(1-w2) + w2*(1-w1)\n",
    "\n",
    "# Bit-node operation in P1 domain\n",
    "#   For two independent P1 observations (w1,w2) a uniform bit, return P1 of the bit\n",
    "@vectorize([float64(float64,float64)],nopython=True)\n",
    "def vnop(w1,w2):\n",
    "    return (w1*w2) / (w1*w2 + (1-w1)*(1-w2))\n",
    "\n",
    "# Hard decision with randomized rounding in P1 domain\n",
    "#   Return hard MAP decision with randomized tie breaking for P1 observation\n",
    "@vectorize([int64(float64)],nopython=True)\n",
    "def hard_dec_rr(w):\n",
    "    return np.int64((1-np.sign(1-2*w)>2*np.random.random_sample(1)).all())"
   ]
  },
  {
   "cell_type": "code",
   "execution_count": 11,
   "metadata": {},
   "outputs": [],
   "source": [
    "@njit # Input/output specifications below to make Numba work\n",
    "def polar_decode(y: float64[:],f: float64[:]) -> (int64[:],int64[:]):\n",
    "    '''\n",
    "    Recursive succesive cancellation polar decoder from P1 observations\n",
    "\n",
    "          Arguments:\n",
    "                  y (float[:]): channel observations in output order\n",
    "                  f (float[:]): input a priori probabilities in input order\n",
    "\n",
    "          Returns:\n",
    "                  u (int[:]): input hard decisions in input order\n",
    "                  x (int[:]): output hard decisions in output order\n",
    "    '''\n",
    "    # Recurse down to length 1\n",
    "    N = len(y)\n",
    "    if (N==1):\n",
    "        # If information bit (i.e., f=1/2 for P1 domain)\n",
    "        x = hard_dec_rr(y)\n",
    "        if (f[0]==1/2):\n",
    "            # Make hard decision based on observation\n",
    "            return x, x.copy()\n",
    "        else:\n",
    "            # Use frozen bit (u,x) = (f,f)\n",
    "            return x, f.astype(np.int64)\n",
    "    else:\n",
    "        # Compute soft mapping back one stage\n",
    "        u1est = cnop(y[::2],y[1::2])\n",
    "\n",
    "        # R_N^T maps u1est to top polar code\n",
    "        uhat1, u1hardprev = polar_decode(u1est,f[:(N//2)])\n",
    "\n",
    "        # Using u1est and x1hard, we can estimate u2\n",
    "        u2est = vnop(cnop(u1hardprev,y[::2]),y[1::2])\n",
    "\n",
    "        # R_N^T maps u2est to bottom polar code\n",
    "        uhat2, u2hardprev = polar_decode(u2est,f[(N//2):])\n",
    "                                            \n",
    "    # Pass u decisions up and interleave x1,x2 hard decisions\n",
    "    #   note: Numba doesn't like np.concatenate\n",
    "    u = np.zeros(N,dtype=np.int64)\n",
    "    u[:(N//2)] = uhat1\n",
    "    u[(N//2):] = uhat2\n",
    "    x1 = cnop(u1hardprev,u2hardprev)\n",
    "    x2 = u2hardprev\n",
    "    x = np.zeros(N,dtype=np.int64)\n",
    "    x[::2] = x1\n",
    "    x[1::2] = x2\n",
    "\n",
    "    return u, x"
   ]
  },
  {
   "cell_type": "code",
   "execution_count": 12,
   "metadata": {},
   "outputs": [
    {
     "name": "stdout",
     "output_type": "stream",
     "text": [
      "(array([0, 1, 0, 1]), array([0, 1, 0, 1]))\n",
      "(array([1, 1, 1, 0]), array([0, 0, 1, 0]))\n",
      "(array([1, 0, 1, 0, 1, 1, 0, 0]), array([0, 1, 0, 0, 0, 1, 0, 0]))\n",
      "(array([1, 1, 1, 0, 1, 0, 0, 0, 1, 0, 0, 0, 0, 0, 0, 0]), array([0, 0, 0, 0, 0, 0, 0, 0, 0, 0, 0, 0, 0, 0, 0, 0]))\n"
     ]
    }
   ],
   "source": [
    "# These test cases match previous MATLAB code results\n",
    "print(polar_decode(np.asarray([0.2,0.6,0.3,0.8]),np.asarray([0,1,0,0.5])))\n",
    "print(polar_decode(np.asarray([0.2,0,0.3,0.8]),np.asarray([0.5,0.5,0,0.5])))\n",
    "print(polar_decode(np.asarray([0.2,0.6,0.3,0.8,0.1,0.7,0.4,0.3]),np.asarray([0,1,0,0,0,0.5,0,0.5])))\n",
    "print(polar_decode(np.asarray([0.1,0.1,0.1,0.1,0.1,0.1,0.1,0.1,0.1,0.1,0.1,0.1,0.9,0.1,0.1,0.1]),np.zeros(16)))"
   ]
  },
  {
   "cell_type": "code",
   "execution_count": 13,
   "metadata": {},
   "outputs": [],
   "source": [
    "@njit\n",
    "def polar_channel_mc(n: int64, chan, p: float64, M: int64) -> (float64[:]):\n",
    "    '''\n",
    "    Monte Carlo estimate of error rates for effective channels of length N=2^n polar code\n",
    "\n",
    "          Arguments:\n",
    "                  n (int): number of polarization stages\n",
    "                  chan (function): function that sends bits over channel and returns P1 observations\n",
    "                  p (float): parameter for channel\n",
    "                  M (int): Number of blocks for Monte Carlo estimate\n",
    "\n",
    "          Returns:\n",
    "                  biterrd (float[:]): Numpy array of channel noise scores (e.g., error rates)\n",
    "                  u (int[:]): input hard decisions in input order\n",
    "                  x (int[:]): output hard decisions in output order\n",
    "    '''\n",
    "    # Setup parameters\n",
    "    N = 2**n\n",
    "    f = np.zeros(N)\n",
    "    biterrd = np.zeros(N)\n",
    "\n",
    "    # Monte Carlo evaluation of error probability\n",
    "    x = np.zeros(N,dtype=np.int64)\n",
    "    for i in range(M):\n",
    "        # Transmit random codeword through channel with parameter p\n",
    "        #x = np.random.randint(0,2,size=N)\n",
    "        y = chan(x,p)\n",
    "        #for j in range(N):\n",
    "        #    if (x[j]==1):\n",
    "        #        y[j] = 1 - y[j]\n",
    "        \n",
    "        # Decode received vector using all-zero frozen vector\n",
    "        uhat, xhat = polar_decode(y,f)\n",
    "        biterrd = biterrd + uhat.astype(np.float64)\n",
    "        \n",
    "    return biterrd/M"
   ]
  },
  {
   "cell_type": "code",
   "execution_count": 14,
   "metadata": {},
   "outputs": [
    {
     "name": "stdout",
     "output_type": "stream",
     "text": [
      "Rate: 0.412353515625\n",
      "Rate: 0.509765625\n"
     ]
    }
   ],
   "source": [
    "# Test polar_channel_mc for BSC\n",
    "biterrd = polar_channel_mc(12,bsc_p1,0.1,2000)\n",
    "f = polar_design(biterrd,0.1)\n",
    "print(\"Rate:\",2*np.mean(f))\n",
    "\n",
    "# Test polar_channel_mc for BIAWGNC\n",
    "biterrd = polar_channel_mc(12,awgn_p1,-1.25,2000)\n",
    "f = polar_design(biterrd,0.1)\n",
    "print(\"Rate:\",2*np.mean(f))"
   ]
  },
  {
   "cell_type": "code",
   "execution_count": 15,
   "metadata": {},
   "outputs": [
    {
     "name": "stdout",
     "output_type": "stream",
     "text": [
      "[0.481 0.399 0.376 0.238 0.538 0.279 0.225 0.037 0.551 0.302 0.207 0.016\n",
      " 0.129 0.007 0.004 0.   ]\n",
      "[0.529 0.387 0.364 0.152 0.334 0.112 0.082 0.01  0.26  0.064 0.042 0.002\n",
      " 0.031 0.    0.    0.   ]\n"
     ]
    }
   ],
   "source": [
    "# Test polar_channel_mc for BSC and BIAWGNC\n",
    "print(polar_channel_mc(4,bsc_p1,0.10,1000))\n",
    "print(polar_channel_mc(4,awgn_p1,-1.25,1000))"
   ]
  },
  {
   "cell_type": "code",
   "execution_count": 16,
   "metadata": {},
   "outputs": [],
   "source": [
    "def test_polar(n=12, chan=None, p=0.1, M=100, f=None, T=1000, d=0.1):\n",
    "    '''\n",
    "    Test polar code via design and simulation\n",
    "\n",
    "          Arguments:\n",
    "                  n (int): number of polarization stages\n",
    "                  chan (function): function that sends bits over channel and returns P1 observations\n",
    "                  p (float or float[:]): parameter(s) for simualtion channel(s)\n",
    "                  M (int): Number of blocks to simulate\n",
    "                  f (float[:]): Numpy vector indicating frozen bits\n",
    "                  T (int): Number of blocks for Monte Carlo estimate of frozen bits using p[0] channel\n",
    "                  d (float): Sum constraint of total noise for unfrozen channels\n",
    "\n",
    "          Returns:\n",
    "                  ber (float[:]): Numpy array of BER estimate for each channel parameter\n",
    "                  wer (float[:]): Numpy array of WER estimate for each channel parameter\n",
    "    '''  \n",
    "    # Handle different calling argument styles\n",
    "    if isinstance(p,float) or isinstance(p,int):\n",
    "        dp = p\n",
    "        p = [p]\n",
    "        M = [M]\n",
    "    else:\n",
    "        dp = p[0]\n",
    "        if isinstance(M,int):\n",
    "            M = [M for i in range(len(p))]\n",
    "\n",
    "    # Display\n",
    "    N = 2**n\n",
    "    print(\"N =\",N,\", chan =\",chan,\", p =\",p, \", M =\",M)\n",
    "\n",
    "    # Design polar code\n",
    "    if f is None:\n",
    "        # Compute the quality of all effective channels\n",
    "        print(\"T =\",T,\", dp =\",dp,\", d =\",d)\n",
    "        if chan is None:\n",
    "            biterrd = polar_bec(n,dp)\n",
    "        else:\n",
    "            biterrd = polar_channel_mc(n,chan,dp,T)\n",
    "        f = polar_design(biterrd,d)\n",
    "    A = (f==1/2)\n",
    "    k = np.sum(A)\n",
    "    rate = k/N\n",
    "    print(\"Rate =\",rate)\n",
    "            \n",
    "    # Run sims to compare with union bound\n",
    "    biterr = [[0,]*M[i] for i in range(len(M))]\n",
    "    mlerr = [[0,]*M[i] for i in range(len(M))]\n",
    "    yy = np.empty(N)\n",
    "\n",
    "    # For each channel parameter\n",
    "    for j in range(len(p)):\n",
    "        # For each block\n",
    "        for i in range(M[j]):\n",
    "            # Set frozen bits, add random data, and encode\n",
    "            u = f.astype(np.int)\n",
    "            u[A] = np.random.randint(0,2,size=k)\n",
    "            x = polar_transform(u);\n",
    "\n",
    "            # Transmit\n",
    "            if chan is None:\n",
    "                # Use erasure channel if no channel provided\n",
    "                y = bec_p1(x,p[j])\n",
    "            else:\n",
    "                y = chan(x,p[j])\n",
    "                \n",
    "            # Decode and compute error rate for info bits\n",
    "            uhat, xhat = polar_decode(y,f)\n",
    "            biterr[j][i] = np.mean(uhat[A] != u[A])\n",
    "                \n",
    "    # Display average bit and block error rate\n",
    "    ber = [np.mean(biterr[j]) for j in range(len(biterr))]\n",
    "    wer = [np.mean(np.asarray(biterr[j])>0) for j in range(len(biterr))] \n",
    "    print(\"ber =\",ber)\n",
    "    print(\"wer =\",wer)\n",
    "    return ber, wer"
   ]
  },
  {
   "cell_type": "code",
   "execution_count": 17,
   "metadata": {},
   "outputs": [
    {
     "name": "stdout",
     "output_type": "stream",
     "text": [
      "N = 4096 , chan = CPUDispatcher(<function awgn_p1 at 0x7fa400c8f0d0>) , p = [-1.25, -0.75, -0.25] , M = [500, 2000, 10000]\n",
      "T = 5000 , dp = -1.25 , d = 0.1\n",
      "Rate = 0.5087890625\n",
      "ber = [0.02012380038387716, 0.0003023032629558541, 3.0326295585412667e-05]\n",
      "wer = [0.104, 0.003, 0.0004]\n",
      "CPU times: user 1min 55s, sys: 690 ms, total: 1min 56s\n",
      "Wall time: 1min 57s\n"
     ]
    }
   ],
   "source": [
    "%%time\n",
    "p=[-1.25, -0.75, -0.25]\n",
    "M=[500,2000,10000]\n",
    "ber, wer = test_polar(n=12, chan=awgn_p1, p=p, M=M, T=5000, d=0.1);"
   ]
  },
  {
   "cell_type": "code",
   "execution_count": 18,
   "metadata": {},
   "outputs": [
    {
     "data": {
      "image/png": "[encoded data removed]",
      "text/plain": [
       "<Figure size 432x288 with 1 Axes>"
      ]
     },
     "metadata": {},
     "output_type": "display_data"
    }
   ],
   "source": [
    "# Plot figure\n",
    "plt.semilogy(p,ber,label=\"BER\")\n",
    "plt.semilogy(p,wer,label=\"WER\")\n",
    "plt.title(\"Error Rate for Polar Code on BIAWGNC\")\n",
    "plt.xlabel(\"$E_s/N_0$\")\n",
    "plt.ylabel(\"Error Rate\")\n",
    "plt.legend()\n",
    "plt.show()"
   ]
  },
  {
   "cell_type": "code",
   "execution_count": null,
   "metadata": {},
   "outputs": [],
   "source": []
  }
 ],
 "metadata": {
  "kernelspec": {
   "display_name": "Environment (conda_anaconda3)",
   "language": "python",
   "name": "conda_anaconda3"
  },
  "language_info": {
   "codemirror_mode": {
    "name": "ipython",
    "version": 3
   },
   "file_extension": ".py",
   "mimetype": "text/x-python",
   "name": "python",
   "nbconvert_exporter": "python",
   "pygments_lexer": "ipython3",
   "version": "3.6.5"
  }
 },
 "nbformat": 4,
 "nbformat_minor": 2
}
